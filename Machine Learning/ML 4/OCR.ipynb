{
 "cells": [
  {
   "attachments": {},
   "cell_type": "markdown",
   "metadata": {},
   "source": [
    "# OCR SYSTEM"
   ]
  },
  {
   "attachments": {},
   "cell_type": "markdown",
   "metadata": {},
   "source": [
    "#### Import Libraries"
   ]
  },
  {
   "cell_type": "code",
   "execution_count": 22,
   "metadata": {},
   "outputs": [],
   "source": [
    "%matplotlib inline\n",
    "import numpy as np\n",
    "from matplotlib import pyplot as plt\n",
    "import pandas as pd"
   ]
  },
  {
   "attachments": {},
   "cell_type": "markdown",
   "metadata": {},
   "source": [
    "#### Import sample images"
   ]
  },
  {
   "cell_type": "code",
   "execution_count": 23,
   "metadata": {},
   "outputs": [
    {
     "data": {
      "image/png": "[encoded data removed]",
      "text/plain": [
       "<Figure size 640x480 with 2 Axes>"
      ]
     },
     "metadata": {},
     "output_type": "display_data"
    }
   ],
   "source": [
    "img2=np.array([0,0,0,0,0,0,0,0,0,0,0,0,0,0,0,0,0,0,1,1,1,0,0,0,0,0,0,0,0,0,0,0,0,1,1,0,0,0,0,0,0,0,0,\n",
    "0,0,1,0,0,1,0,0,0,0,0,0,0,0,0,0,0,1,1,0,0,1,0,0,0,0,0,0,0,0,0,0,0,1,1,0,0,1,0,0,0,0,0,0,0,0,0,0,0,1,\n",
    "1,1,0,1,0,0,0,0,0,0,0,0,0,0,1,1,0,1,0,1,0,0,0,0,0,0,0,0,0,0,1,0,0,1,0,1,0,0,0,0,0,0,0,0,0,1,0,0,0,1,\n",
    "0,1,1,1,1,1,1,1,1,1,1,1,0,0,0,1,1,0,0,0,0,0,0,0,0,0,0,0,0,0,0,0,1,0,0,0,0,0,0,0,0,0,0,0,0,0,0,0,1,0,\n",
    "0,0,0,0,0,0,0,0,0,0,0,0,0,0,1,0,0,0,0,0,0,0,0,0,0,0,0,0,0,0,1,0,0,0,0,0,0,0,0,0,0,0,0,0,0,0,1,0,0,0,\n",
    "0,0,0,0,0,0,0,0,0,0,0,0,0],dtype=np.uint8)\n",
    "\n",
    "img4=np.array([0,0,0,0,0,0,0,0,0,0,0,0,0,0,0,0,0,0,0,0,0,0,0,0,0,0,0,0,0,0,0,0,0,0,0,0,0,0,0,1,0,0,0,\n",
    "0,0,0,0,0,1,1,1,1,1,1,1,1,0,0,0,0,0,0,0,0,0,0,0,0,0,0,0,1,0,0,0,0,0,0,0,1,0,0,0,0,0,0,0,1,0,0,0,0,0,\n",
    "1,1,1,0,0,0,0,0,0,1,0,0,0,1,1,1,0,0,0,0,0,0,0,0,0,1,0,0,1,1,0,0,0,0,0,0,0,0,0,0,0,1,1,1,0,0,0,0,0,0,\n",
    "0,0,1,1,1,1,1,1,0,0,0,0,0,0,0,0,0,1,1,0,0,0,1,0,0,0,0,0,0,0,0,0,0,0,0,0,0,0,1,0,0,0,0,0,0,0,0,0,0,0,\n",
    "0,0,0,1,1,0,0,0,0,0,0,0,0,0,0,0,0,0,0,0,1,0,0,0,0,0,0,0,0,0,0,0,0,0,0,0,0,0,0,0,0,0,0,0,0,0,0,0,0,0,\n",
    "0,0,0,0,0,0,0,0,0,0,0,0,0],dtype=np.uint8)\n",
    "\n",
    "img = np.reshape(img4,(16,16),order= 'F')\n",
    "img1 = np.reshape(img2,(16,16),order= 'F')\n",
    "\n",
    "fig, axes = plt.subplots(1, 2)\n",
    "axes[0].imshow(img)\n",
    "axes[0].set_title('Image of 4')\n",
    "axes[1].imshow(img1)\n",
    "axes[1].set_title('Image of 2')\n",
    "\n",
    "plt.tight_layout()\n",
    "\n",
    "plt.show()"
   ]
  },
  {
   "attachments": {},
   "cell_type": "markdown",
   "metadata": {},
   "source": [
    "## Import Data from the Files"
   ]
  },
  {
   "attachments": {},
   "cell_type": "markdown",
   "metadata": {},
   "source": [
    "#### Training Data"
   ]
  },
  {
   "cell_type": "code",
   "execution_count": 24,
   "metadata": {},
   "outputs": [
    {
     "name": "stdout",
     "output_type": "stream",
     "text": [
      "Shape of X_train :(500, 256)\n",
      "Shape of Y_train :(500, 1)\n"
     ]
    }
   ],
   "source": [
    "#Your code here\n",
    "#using fwf(fixed_width file) to read data\n",
    "x_train = pd.read_fwf('trainX.txt',header=None) \n",
    "y_train = pd.read_fwf('trainY.txt',header=None)\n",
    "print(f\"Shape of X_train :{x_train.shape}\") \n",
    "print(f\"Shape of Y_train :{y_train.shape}\") "
   ]
  },
  {
   "attachments": {},
   "cell_type": "markdown",
   "metadata": {},
   "source": [
    "Expected Output <br>\n",
    "- Shape of X_train : (500, 256) <br>\n",
    "- Shape of y_train : (500,)"
   ]
  },
  {
   "attachments": {},
   "cell_type": "markdown",
   "metadata": {},
   "source": [
    "### Testing Data"
   ]
  },
  {
   "cell_type": "code",
   "execution_count": 25,
   "metadata": {},
   "outputs": [
    {
     "name": "stdout",
     "output_type": "stream",
     "text": [
      "Shape of X_test :(100, 256)\n",
      "Shape of Y_test :(100, 1)\n"
     ]
    }
   ],
   "source": [
    "#Your code here\n",
    "x_test = pd.read_fwf('testX.txt',header=None) \n",
    "y_test = pd.read_fwf('testY.txt',header=None)\n",
    "print(f\"Shape of X_test :{x_test.shape}\") \n",
    "print(f\"Shape of Y_test :{y_test.shape}\") \n"
   ]
  },
  {
   "attachments": {},
   "cell_type": "markdown",
   "metadata": {},
   "source": [
    "Expected Output <br>\n",
    "- Shape of X_train : (100, 256) <br>\n",
    "- Shape of y_train : (100,)\n"
   ]
  },
  {
   "attachments": {},
   "cell_type": "markdown",
   "metadata": {},
   "source": [
    "### Dividing Data W.R.T its Classes"
   ]
  },
  {
   "attachments": {},
   "cell_type": "markdown",
   "metadata": {},
   "source": [
    "##### Training Data"
   ]
  },
  {
   "cell_type": "code",
   "execution_count": 26,
   "metadata": {},
   "outputs": [],
   "source": [
    "#AS we know first 250 images are of 2 so we will take first 250 images from X_train\n",
    "#your code here\n",
    "img2_X_train = x_train[:250]\n",
    "img4_X_train = x_train[250:]\n"
   ]
  },
  {
   "attachments": {},
   "cell_type": "markdown",
   "metadata": {},
   "source": [
    "##### Another way\n",
    "You can coment the below code if you dont want to try this effective way and will use the above code to divide the data into classes"
   ]
  },
  {
   "cell_type": "code",
   "execution_count": 27,
   "metadata": {},
   "outputs": [
    {
     "name": "stdout",
     "output_type": "stream",
     "text": [
      "Shape of X_train img2 : (250, 256)\n",
      "Shape of X_train img4 : (250, 256)\n"
     ]
    }
   ],
   "source": [
    "#But in case if we didn't know that first 250 images are of 2 then we can use this code\n",
    "#This img2_X_train will contain only only those images from X_train which have corespondong label of 2 in Y_train\n",
    "# img2_X_train = \n",
    "# img4_X_train = \n",
    "print(f\"Shape of X_train img2 : {img2_X_train.shape}\")\n",
    "print(f\"Shape of X_train img4 : {img4_X_train.shape}\")"
   ]
  },
  {
   "attachments": {},
   "cell_type": "markdown",
   "metadata": {},
   "source": [
    "Expected Output <br>\n",
    "- Shape of X_train : (250, 256) <br>\n",
    "- Shape of y_train : (250, 256)\n"
   ]
  },
  {
   "attachments": {},
   "cell_type": "markdown",
   "metadata": {},
   "source": [
    "##### Testing Data"
   ]
  },
  {
   "cell_type": "code",
   "execution_count": 28,
   "metadata": {},
   "outputs": [
    {
     "name": "stdout",
     "output_type": "stream",
     "text": [
      "X_test img2 : (50, 256)\n",
      "X_test img4 : (50, 256)\n"
     ]
    }
   ],
   "source": [
    "# Your code here\n",
    "\n",
    "img2_X_test = x_test[:50]\n",
    "img4_X_test = x_test[50:]\n",
    "print(f\"X_test img2 : {img2_X_test.shape}\")\n",
    "print(f\"X_test img4 : {img4_X_test.shape}\")"
   ]
  },
  {
   "attachments": {},
   "cell_type": "markdown",
   "metadata": {},
   "source": [
    "Expected Output <br>\n",
    "- Shape of X_train : (50, 256) <br>\n",
    "- Shape of y_train : (50, 256)\n"
   ]
  },
  {
   "attachments": {},
   "cell_type": "markdown",
   "metadata": {},
   "source": [
    "### Finding the Probabilities"
   ]
  },
  {
   "attachments": {},
   "cell_type": "markdown",
   "metadata": {},
   "source": [
    "### Training Data"
   ]
  },
  {
   "attachments": {},
   "cell_type": "markdown",
   "metadata": {},
   "source": [
    "##### Probabailty of 1s and 0s"
   ]
  },
  {
   "cell_type": "code",
   "execution_count": 29,
   "metadata": {},
   "outputs": [
    {
     "name": "stdout",
     "output_type": "stream",
     "text": [
      "(256,)\n",
      "(256,)\n",
      "(256,)\n",
      "(256,)\n"
     ]
    }
   ],
   "source": [
    "img2_one_prob = np.sum((img2_X_train)/len(img2_X_train))\n",
    "img2_zero_prob =  1 - img2_one_prob\n",
    "img4_one_prob = np.sum((img4_X_train)/len(img4_X_train))\n",
    "img4_zero_prob = 1 - img4_one_prob\n",
    "print(img2_one_prob.shape)\n",
    "print(img2_zero_prob.shape)\n",
    "print(img4_one_prob.shape)\n",
    "print(img4_zero_prob.shape)"
   ]
  },
  {
   "attachments": {},
   "cell_type": "markdown",
   "metadata": {},
   "source": [
    "Expected Output <br>\n",
    "- (256,)\n",
    "- (256,)\n",
    "- (256,)\n",
    "- (256,)\n"
   ]
  },
  {
   "attachments": {},
   "cell_type": "markdown",
   "metadata": {},
   "source": [
    "#### Class Probabilities"
   ]
  },
  {
   "cell_type": "code",
   "execution_count": 30,
   "metadata": {},
   "outputs": [
    {
     "name": "stdout",
     "output_type": "stream",
     "text": [
      "Probability of class 2 is 0.5\n",
      "Probability of class 4 is 0.5\n"
     ]
    }
   ],
   "source": [
    "# Your code here\n",
    "probability_2 = len(img2_X_train)/len(x_train) #len function applied on dataframe returns number of rows.\n",
    "probability_4 = 1 - probability_2\n",
    "print(f\"Probability of class 2 is {probability_2}\")\n",
    "print(f\"Probability of class 4 is {probability_4}\")\n",
    "\n",
    "\n",
    "\n"
   ]
  },
  {
   "attachments": {},
   "cell_type": "markdown",
   "metadata": {},
   "source": [
    "#### Predictions"
   ]
  },
  {
   "cell_type": "code",
   "execution_count": 31,
   "metadata": {},
   "outputs": [
    {
     "name": "stdout",
     "output_type": "stream",
     "text": [
      "TP=249, FP=1\n",
      "FN=2, TN=248\n"
     ]
    }
   ],
   "source": [
    "# Your code here\n",
    "#converting the pandas dataFrame to 1s and 2d arrays respectively for accessing the values at particular indexes\n",
    "img2_X_train = np.array(img2_X_train)\n",
    "img4_X_train = np.array(img4_X_train)\n",
    "img2_zero_prob = np.array(img2_zero_prob)\n",
    "img2_one_prob = np.array(img2_one_prob)\n",
    "img4_zero_prob = np.array(img4_zero_prob)\n",
    "img4_one_prob = np.array(img4_one_prob)\n",
    "y_train = np.array(y_train)\n",
    "totalProbability2_2Train = np.ones(len(img2_X_train))  #store the probabilities of 250 records with respect to 2 from first half data\n",
    "totalProbability2_4Train = np.ones(len(img2_X_train))  #store the probabilities of 250 records with respect to 4 from first half data\n",
    "totalProbability4_2Train = np.ones(len(img4_X_train))  #store the probabilities of 250 records with respect to 2 from second half data\n",
    "totalProbability4_4Train = np.ones(len(img4_X_train)) #store the probabilities of 250 records with respect to 4 from second half data\n",
    "predicted2Train = [] #List containing the predicted probabilities with respect to 2\n",
    "predicted4Train = [] #List containing the predicted probabilities with respect to 4\n",
    "# this will create an array of size 250 ie total 2s examplepoints giving us out the probaility of each examplepoint w.r.t 2.\n",
    "for i in range(len(img2_X_train)):\n",
    "    for j in range(img2_X_train.shape[1]):\n",
    "         if 0 == img2_X_train[i,j] : #if a 0 occurs in coloum multiply the probabilities with respect to already calculated probabaility of 0 in first half\n",
    "             totalProbability2_2Train[i] = totalProbability2_2Train[i] * img2_zero_prob[j] #with respect to 2, and we are interested with it\n",
    "             totalProbability2_4Train[i] = totalProbability2_4Train[i] * img4_zero_prob[j] #with respect to 4\n",
    "         elif 1 == img2_X_train[i,j] : #if a 1 occurs in coloum multiply the probabilities with respect to already calculated probabilitiy of 1 in first half\n",
    "             totalProbability2_2Train[i] = totalProbability2_2Train[i] * img2_one_prob[j] #with respect to 2, and we are interested with it\n",
    "             totalProbability2_4Train[i] = totalProbability2_4Train[i] * img4_one_prob[j] #with respect to 4\n",
    "    totalProbability2_2Train[i]=totalProbability2_2Train[i]*probability_2 #at last multipling with p(2)\n",
    "    totalProbability2_4Train[i]=totalProbability2_4Train[i]*probability_4 #at last multiply with p(4)\n",
    "    if (totalProbability2_2Train[i]>totalProbability2_4Train[i] ):\n",
    "        predicted2Train.append(2)\n",
    "    else:\n",
    "        predicted2Train.append(4)\n",
    "\n",
    "for i in range(len(img4_X_train)):\n",
    "    for j in range(img4_X_train.shape[1]):\n",
    "         if 0 == img4_X_train[i,j] :  #if a 0 occurs in coloum multiply the probabilities with respect to already calculated probabaility of 0 in second half\n",
    "             totalProbability4_4Train[i] = totalProbability4_4Train[i] * img4_zero_prob[j] #with respect to 4, and we are interested with it\n",
    "             totalProbability4_2Train[i] = totalProbability4_2Train[i] * img2_zero_prob[j] #with respect to 2\n",
    "         elif 1 == img4_X_train[i,j] : #if a 1 occurs in coloum multiply the probabilities with respect to already calculated probabaility of 0\\1 in second half\n",
    "             totalProbability4_4Train[i] = totalProbability4_4Train[i] * img4_one_prob[j] #with respect to 4, and we are interested with it\n",
    "             totalProbability4_2Train[i] = totalProbability4_2Train[i] * img2_one_prob[j] #with respect to 2\n",
    "    totalProbability4_2Train[i]=totalProbability4_2Train[i]*probability_2 #at last multipling with p(2)\n",
    "    totalProbability4_4Train[i]=totalProbability4_4Train[i]*probability_4 #at last multipling with p(4)\n",
    "    if (totalProbability4_4Train[i]>totalProbability4_2Train[i] ):\n",
    "        predicted4Train.append(4)\n",
    "    else:\n",
    "        predicted4Train.append(2)\n",
    "\n",
    "TP = predicted2Train.count(2)\n",
    "TN = predicted4Train.count(4)\n",
    "FP = predicted2Train.count(4)\n",
    "FN = predicted4Train.count(2)\n",
    "print(f\"TP={TP}, FP={FP}\")\n",
    "print(f\"FN={FN}, TN={TN}\")\n",
    "\n",
    "#Actual         2     4\n",
    "\n",
    "#Predicted 2    249      1\n",
    "#Predicted 4    2       248\n",
    "\n",
    "\n",
    "\n",
    "\n"
   ]
  },
  {
   "attachments": {},
   "cell_type": "markdown",
   "metadata": {},
   "source": [
    "#### Overall Accuracy"
   ]
  },
  {
   "cell_type": "code",
   "execution_count": 32,
   "metadata": {},
   "outputs": [
    {
     "name": "stdout",
     "output_type": "stream",
     "text": [
      "\n",
      "Overall Accuracy =  0.994\n"
     ]
    }
   ],
   "source": [
    "# Your code here\n",
    "overall_Accuracy = ((TP+TN)/len(x_train))\n",
    "\n",
    "\n",
    "print(\"\\nOverall Accuracy = \", overall_Accuracy)"
   ]
  },
  {
   "attachments": {},
   "cell_type": "markdown",
   "metadata": {},
   "source": [
    "Expected Output \n",
    "<br><br>\n",
    "**Confusion Matrix**\n",
    "<br>\n",
    "TP =  248 \tFP =  4\n",
    "<br>\n",
    "FN =  2 \tTN =  246\n",
    "<br>\n",
    "- Overall Accuracy =  0.988"
   ]
  },
  {
   "attachments": {},
   "cell_type": "markdown",
   "metadata": {},
   "source": [
    "#### Classwise Accuracy"
   ]
  },
  {
   "cell_type": "code",
   "execution_count": 33,
   "metadata": {},
   "outputs": [
    {
     "name": "stdout",
     "output_type": "stream",
     "text": [
      "Total accuracy of Training data given class 2:  0.996\n",
      "Total accuracy of Training data given class 4:  0.992\n"
     ]
    }
   ],
   "source": [
    "# Your code here\n",
    "class2_train_total_accuracy = (TP/len(img2_X_train))\n",
    "class4_train_total_accuracy = (TN/len(img4_X_train))\n",
    "\n",
    "\n",
    "\n",
    "print(\"Total accuracy of Training data given class 2: \", class2_train_total_accuracy)\n",
    "print(\"Total accuracy of Training data given class 4: \" , class4_train_total_accuracy)"
   ]
  },
  {
   "attachments": {},
   "cell_type": "markdown",
   "metadata": {},
   "source": [
    "Expected Output <br>\n",
    "\n",
    "- Total accuracy of Training data given class 2:  0.984\n",
    "<br>\n",
    "- Total accuracy of Training data given class 4:  0.992"
   ]
  },
  {
   "attachments": {},
   "cell_type": "markdown",
   "metadata": {},
   "source": [
    "### FOR TESTING DATA"
   ]
  },
  {
   "attachments": {},
   "cell_type": "markdown",
   "metadata": {},
   "source": [
    "##### Probabailty of 1s and 0s"
   ]
  },
  {
   "cell_type": "code",
   "execution_count": 34,
   "metadata": {},
   "outputs": [
    {
     "name": "stdout",
     "output_type": "stream",
     "text": [
      "(256,)\n",
      "(256,)\n",
      "(256,)\n",
      "(256,)\n"
     ]
    }
   ],
   "source": [
    "img2_one_prob = np.sum((img2_X_test)/len(img2_X_test))\n",
    "img2_zero_prob = 1-img2_one_prob\n",
    "img4_one_prob = np.sum((img4_X_test)/len(img4_X_test))\n",
    "img4_zero_prob = 1-img4_one_prob\n",
    "\n",
    "print(img2_one_prob.shape)\n",
    "print(img2_zero_prob.shape)\n",
    "print(img4_one_prob.shape)\n",
    "print(img4_zero_prob.shape)"
   ]
  },
  {
   "attachments": {},
   "cell_type": "markdown",
   "metadata": {},
   "source": [
    "#### Class Probabilities"
   ]
  },
  {
   "cell_type": "code",
   "execution_count": 35,
   "metadata": {},
   "outputs": [
    {
     "name": "stdout",
     "output_type": "stream",
     "text": [
      "Probability of class 2 is 0.5\n",
      "Probability of class 4 is 0.5\n"
     ]
    }
   ],
   "source": [
    "# your code here\n",
    "probability_2 = len(img2_X_test)/len(x_test) #len function applied on dataframe returns number of rows.\n",
    "probability_4 = 1 - probability_2\n",
    "print(f\"Probability of class 2 is {probability_2}\")\n",
    "print(f\"Probability of class 4 is {probability_4}\")\n",
    "\n",
    "\n",
    "\n"
   ]
  },
  {
   "attachments": {},
   "cell_type": "markdown",
   "metadata": {},
   "source": [
    "#### Predictions"
   ]
  },
  {
   "cell_type": "code",
   "execution_count": 36,
   "metadata": {},
   "outputs": [
    {
     "name": "stdout",
     "output_type": "stream",
     "text": [
      "TP=50,FP=0\n",
      "FN=0,TN=50\n"
     ]
    }
   ],
   "source": [
    "# your code here\n",
    "# Your code here\n",
    "#converting the pandas dataFrame to 1s and 2d arrays respectively for accessing the values at particular indexes\n",
    "img2_X_test = np.array(img2_X_test)\n",
    "img4_X_test = np.array(img4_X_test)\n",
    "img2_zero_prob = np.array(img2_zero_prob)\n",
    "img2_one_prob = np.array(img2_one_prob)\n",
    "img4_zero_prob = np.array(img4_zero_prob)\n",
    "img4_one_prob = np.array(img4_one_prob)\n",
    "y_train = np.array(y_train)\n",
    "totalProbability2_2Test = np.ones(len(img2_X_test))  #store the probabilities of 250 records with respect to 2 from first half data\n",
    "totalProbability2_4Test = np.ones(len(img2_X_test))  #store the probabilities of 250 records with respect to 4 from first half data\n",
    "totalProbability4_2Test = np.ones(len(img4_X_test))  #store the probabilities of 250 records with respect to 2 from second half data\n",
    "totalProbability4_4Test = np.ones(len(img4_X_test)) #store the probabilities of 250 records with respect to 4 from second half data\n",
    "predicted2Test = [] #List containing the predicted probabilities with respect to 2\n",
    "predicted4Test = [] #List containing the predicted probabilities with respect to 4\n",
    "# this will create an array of size 250 ie total 2s examplepoints giving us out the probaility of each examplepoint w.r.t 2.\n",
    "for i in range(len(img2_X_test)):\n",
    "    for j in range(img2_X_test.shape[1]):\n",
    "         if 0 == img2_X_test[i,j] : #if a 0 occurs in coloum multiply the probabilities with respect to already calculated probabaility of 0 in first half\n",
    "             totalProbability2_2Test[i] = totalProbability2_2Test[i] * img2_zero_prob[j] #with respect to 2, and we are interested with it\n",
    "             totalProbability2_4Test[i] = totalProbability2_4Test[i] * img4_zero_prob[j] #with respect to 4\n",
    "         elif 1 == img2_X_test[i,j] : #if a 1 occurs in coloum multiply the probabilities with respect to already calculated probabilitiy of 1 in first half\n",
    "             totalProbability2_2Test[i] = totalProbability2_2Test[i] * img2_one_prob[j] #with respect to 2, and we are interested with it\n",
    "             totalProbability2_4Test[i] = totalProbability2_4Test[i] * img4_one_prob[j] #with respect to 4\n",
    "    totalProbability2_2Test[i]=totalProbability2_2Test[i]*probability_2 #at last multipling with p(2)\n",
    "    totalProbability2_4Test[i]=totalProbability2_4Test[i]*probability_4 #at last multiply with p(4)\n",
    "    if (totalProbability2_2Test[i]>totalProbability2_4Test[i] ):\n",
    "        predicted2Test.append(2)\n",
    "    else:\n",
    "        predicted2Test.append(4)\n",
    "\n",
    "for i in range(len(img4_X_test)):\n",
    "    for j in range(img4_X_test.shape[1]):\n",
    "         if 0 == img4_X_test[i,j] :  #if a 0 occurs in coloum multiply the probabilities with respect to already calculated probabaility of 0 in second half\n",
    "             totalProbability4_4Test[i] = totalProbability4_4Test[i] * img4_zero_prob[j] #with respect to 4, and we are interested with it\n",
    "             totalProbability4_2Test[i] = totalProbability4_2Test[i] * img2_zero_prob[j] #with respect to 2\n",
    "         elif 1 == img4_X_test[i,j] : #if a 1 occurs in coloum multiply the probabilities with respect to already calculated probabaility of 0\\1 in second half\n",
    "             totalProbability4_4Test[i] = totalProbability4_4Test[i] * img4_one_prob[j] #with respect to 4, and we are interested with it\n",
    "             totalProbability4_2Test[i] = totalProbability4_2Test[i] * img2_one_prob[j] #with respect to 2\n",
    "    totalProbability4_2Test[i]=totalProbability4_2Test[i]*probability_2 #at last multipling with p(2)\n",
    "    totalProbability4_4Test[i]=totalProbability4_4Test[i]*probability_4 #at last multipling with p(4)\n",
    "    if (totalProbability4_4Test[i]>totalProbability4_2Test[i] ):\n",
    "        predicted4Test.append(4)\n",
    "    else:\n",
    "        predicted4Test.append(2)\n",
    "\n",
    "TP = predicted2Test.count(2)\n",
    "TN = predicted4Test.count(4)\n",
    "FP = predicted2Test.count(4)\n",
    "FN = predicted4Test.count(2)\n",
    "print(f\"TP={TP},FP={FP}\")\n",
    "print(f\"FN={FN},TN={TN}\")\n",
    "\n",
    "#Actual         2        4\n",
    "#               50       50\n",
    "#Predicted 2    50       0\n",
    "#Predicted 4    0        50\n"
   ]
  },
  {
   "attachments": {},
   "cell_type": "markdown",
   "metadata": {},
   "source": [
    "#### Classwise Accuracy"
   ]
  },
  {
   "cell_type": "code",
   "execution_count": 37,
   "metadata": {},
   "outputs": [
    {
     "name": "stdout",
     "output_type": "stream",
     "text": [
      "Total accuracy of Testing data given class 2:  1.0\n",
      "Total accuracy of Testing data given class 4:  1.0\n"
     ]
    }
   ],
   "source": [
    "# your code here\n",
    "class2_test_total_accuracy = (TP/len(img2_X_test))\n",
    "class4_test_total_accuracy = (TN/len(img4_X_test))\n",
    "\n",
    "\n",
    "print(\"Total accuracy of Testing data given class 2: \", class2_test_total_accuracy)\n",
    "print(\"Total accuracy of Testing data given class 4: \", class4_test_total_accuracy)"
   ]
  },
  {
   "attachments": {},
   "cell_type": "markdown",
   "metadata": {},
   "source": [
    "Expected Output <br>\n",
    "\n",
    "- Total accuracy of Testing data given class 2:  1.0\n",
    "<br>\n",
    "- Total accuracy of Testing data given class 4:  1.0"
   ]
  },
  {
   "attachments": {},
   "cell_type": "markdown",
   "metadata": {},
   "source": [
    "#### Overall Accuracy"
   ]
  },
  {
   "cell_type": "code",
   "execution_count": 38,
   "metadata": {},
   "outputs": [
    {
     "name": "stdout",
     "output_type": "stream",
     "text": [
      "\n",
      "Overall Accuracy =  1.0\n"
     ]
    }
   ],
   "source": [
    "# your code here \n",
    "overall_Accuracy = ((TP+TN)/len(x_test))\n",
    "print(\"\\nOverall Accuracy = \", overall_Accuracy)\n",
    "\n"
   ]
  },
  {
   "attachments": {},
   "cell_type": "markdown",
   "metadata": {},
   "source": [
    "Expected Output \n",
    "<br><br>\n",
    "**Confusion Matrix**\n",
    "<br>\n",
    "TP =  50 \tFP =  0\n",
    "<br>\n",
    "FN =  0 \tTN =  50\n",
    "<br>\n",
    "- Overall Accuracy =  1.0"
   ]
  },
  {
   "attachments": {},
   "cell_type": "markdown",
   "metadata": {},
   "source": [
    "### Plot your Test pixels/features in form of image to correctly identify whether our model is giving correct results"
   ]
  },
  {
   "attachments": {},
   "cell_type": "markdown",
   "metadata": {},
   "source": [
    "2 plots for each class"
   ]
  },
  {
   "cell_type": "code",
   "execution_count": 39,
   "metadata": {},
   "outputs": [
    {
     "data": {
      "image/png": "[encoded data removed]",
      "text/plain": [
       "<Figure size 640x480 with 2 Axes>"
      ]
     },
     "metadata": {},
     "output_type": "display_data"
    }
   ],
   "source": [
    "img_2_Train1 = np.reshape(img2_X_train[5],(16,16),order= 'F')\n",
    "img_2_Train2 = np.reshape(img2_X_train[128],(16,16),order= 'F')\n",
    "\n",
    "fig, axes = plt.subplots(1, 2)\n",
    "axes[0].imshow(img_2_Train1)\n",
    "axes[0].set_title('Image of 2 in train data')\n",
    "axes[1].imshow(img_2_Train2)\n",
    "axes[1].set_title('Image of 2 in train data')\n",
    "plt.tight_layout()\n",
    "plt.show()"
   ]
  },
  {
   "cell_type": "code",
   "execution_count": 40,
   "metadata": {},
   "outputs": [
    {
     "data": {
      "image/png": "[encoded data removed]",
      "text/plain": [
       "<Figure size 640x480 with 2 Axes>"
      ]
     },
     "metadata": {},
     "output_type": "display_data"
    }
   ],
   "source": [
    "img_4_Train1 = np.reshape(img4_X_train[54],(16,16),order= 'F')\n",
    "img_4_Train2 = np.reshape(img4_X_train[217],(16,16),order= 'F')\n",
    "\n",
    "fig, axes = plt.subplots(1, 2)\n",
    "axes[0].imshow(img_4_Train1)\n",
    "axes[0].set_title('Image of 4 in train data')\n",
    "axes[1].imshow(img_4_Train2)\n",
    "axes[1].set_title('Image of 4 in train data')\n",
    "plt.tight_layout()\n",
    "plt.show()"
   ]
  },
  {
   "cell_type": "code",
   "execution_count": 41,
   "metadata": {},
   "outputs": [
    {
     "data": {
      "image/png": "[encoded data removed]",
      "text/plain": [
       "<Figure size 640x480 with 2 Axes>"
      ]
     },
     "metadata": {},
     "output_type": "display_data"
    }
   ],
   "source": [
    "img_2_Test1 = np.reshape(img2_X_test[28],(16,16),order= 'F')\n",
    "img_2_Test2 = np.reshape(img2_X_test[17],(16,16),order= 'F')\n",
    "\n",
    "fig, axes = plt.subplots(1, 2)\n",
    "axes[0].imshow(img_2_Test1)\n",
    "axes[0].set_title('Image of 2 in test data')\n",
    "axes[1].imshow(img_2_Test2)\n",
    "axes[1].set_title('Image of 2 in test data')\n",
    "plt.tight_layout()\n",
    "plt.show()"
   ]
  },
  {
   "cell_type": "code",
   "execution_count": 42,
   "metadata": {},
   "outputs": [
    {
     "data": {
      "image/png": "[encoded data removed]",
      "text/plain": [
       "<Figure size 640x480 with 2 Axes>"
      ]
     },
     "metadata": {},
     "output_type": "display_data"
    }
   ],
   "source": [
    "img_4_Test1 = np.reshape(img4_X_test[28],(16,16),order= 'F')\n",
    "img_4_Test2 = np.reshape(img4_X_test[17],(16,16),order= 'F')\n",
    "\n",
    "fig, axes = plt.subplots(1, 2)\n",
    "axes[0].imshow(img_4_Test1)\n",
    "axes[0].set_title('Image of 4 in test data')\n",
    "axes[1].imshow(img_4_Test2)\n",
    "axes[1].set_title('Image of 4 in test data')\n",
    "plt.tight_layout()\n",
    "plt.show()"
   ]
  },
  {
   "attachments": {},
   "cell_type": "markdown",
   "metadata": {},
   "source": [
    "Your Oppinion on the results about why naive bayes worked well for  this OCR\n",
    "and give one example where naive bayes can not be used\n"
   ]
  },
  {
   "attachments": {},
   "cell_type": "markdown",
   "metadata": {},
   "source": [
    "Solution :"
   ]
  },
  {
   "attachments": {},
   "cell_type": "markdown",
   "metadata": {},
   "source": [
    "Naive bayes worked well for this OCR, as all given features were independent with one another with given respective class. But in many real world scenerios, all given features are not always independent with one another with given respective class.\n",
    "Example where naive bayes cannot be used, recommendation system for online shopping, in which dataset involves users' browser history, past purchases, demographics, and interaction with website, all these featuers are highly dependent on each other, the goal is to predict whether user will buy particular product or not."
   ]
  }
 ],
 "metadata": {
  "kernelspec": {
   "display_name": "Python 3",
   "language": "python",
   "name": "python3"
  },
  "language_info": {
   "codemirror_mode": {
    "name": "ipython",
    "version": 3
   },
   "file_extension": ".py",
   "mimetype": "text/x-python",
   "name": "python",
   "nbconvert_exporter": "python",
   "pygments_lexer": "ipython3",
   "version": "3.11.4"
  },
  "orig_nbformat": 4
 },
 "nbformat": 4,
 "nbformat_minor": 2
}
