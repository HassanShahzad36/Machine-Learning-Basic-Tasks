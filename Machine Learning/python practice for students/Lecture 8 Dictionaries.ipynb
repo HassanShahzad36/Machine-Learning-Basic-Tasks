{
 "cells": [
  {
   "cell_type": "code",
   "execution_count": null,
   "metadata": {
    "collapsed": true
   },
   "outputs": [],
   "source": [
    "# Contents\n",
    "## 1. Dictionaries\n",
    "## 2. Dictionary as a set of counters\n",
    "## 3. Looping and dictionaries\n"
   ]
  },
  {
   "cell_type": "markdown",
   "metadata": {},
   "source": [
    "# 1. Dictionaries"
   ]
  },
  {
   "cell_type": "markdown",
   "metadata": {},
   "source": [
    "1. A dictionary is like a list, but more general. \n",
    "2. In a list, the positions (a.k.a. indices) have to be integers; in a dictionary the indices can be (almost) any type.\n",
    "3. You can think of a dictionary as a mapping between a set of indices (which are called keys) and a set of values. \n",
    "4. Each key maps to a value. \n",
    "5. The association of a key and a value is called a key-value pair or sometimes an item.\n",
    "6. As an example, we’ll build a dictionary that maps from English to Spanish words,so the keys and the values are all strings.\n",
    "7. The function dict creates a new dictionary with no items. \n",
    "8. Because dict is the name of a built-in function, you should avoid using it as a variable name."
   ]
  },
  {
   "cell_type": "code",
   "execution_count": 9,
   "metadata": {},
   "outputs": [
    {
     "name": "stdout",
     "output_type": "stream",
     "text": [
      "{}\n"
     ]
    }
   ],
   "source": [
    "eng2sp = dict()\n",
    "print(eng2sp)"
   ]
  },
  {
   "cell_type": "raw",
   "metadata": {},
   "source": [
    "The squiggly-brackets, {}, represent an empty dictionary. \n",
    "To add items to the dictionary, you can use square brackets:"
   ]
  },
  {
   "cell_type": "code",
   "execution_count": 10,
   "metadata": {
    "collapsed": true
   },
   "outputs": [],
   "source": [
    "# This line creates an item that maps from the key ’one’ to the value 'uno'.\n",
    "eng2sp['one'] = 'uno'"
   ]
  },
  {
   "cell_type": "code",
   "execution_count": 11,
   "metadata": {},
   "outputs": [
    {
     "name": "stdout",
     "output_type": "stream",
     "text": [
      "{'one': 'uno'}\n"
     ]
    }
   ],
   "source": [
    "print(eng2sp)"
   ]
  },
  {
   "cell_type": "code",
   "execution_count": 20,
   "metadata": {
    "collapsed": true
   },
   "outputs": [],
   "source": [
    "# This output format is also an input format. For example, you can create a new dictionary\n",
    "# with three items:\n",
    "eng2sp = {'one': 'uno', 'two': 'dos', 'three': 'tres'}"
   ]
  },
  {
   "cell_type": "code",
   "execution_count": 21,
   "metadata": {},
   "outputs": [
    {
     "name": "stdout",
     "output_type": "stream",
     "text": [
      "{'one': 'uno', 'two': 'dos', 'three': 'tres'}\n"
     ]
    }
   ],
   "source": [
    "print(eng2sp)"
   ]
  },
  {
   "cell_type": "code",
   "execution_count": 22,
   "metadata": {},
   "outputs": [
    {
     "name": "stdout",
     "output_type": "stream",
     "text": [
      "dos\n"
     ]
    }
   ],
   "source": [
    "# you use the keys to look up the corresponding values:\n",
    "print (eng2sp['two'])"
   ]
  },
  {
   "cell_type": "code",
   "execution_count": 3,
   "metadata": {},
   "outputs": [
    {
     "name": "stdout",
     "output_type": "stream",
     "text": [
      "None\n"
     ]
    }
   ],
   "source": [
    "# If the key isn’t in the dictionary, you get an exception:\n",
    "print (eng2sp['four'])"
   ]
  },
  {
   "cell_type": "code",
   "execution_count": 24,
   "metadata": {},
   "outputs": [
    {
     "data": {
      "text/plain": [
       "3"
      ]
     },
     "execution_count": 24,
     "metadata": {},
     "output_type": "execute_result"
    }
   ],
   "source": [
    "# The len function works on dictionaries; it returns the number of key-value pairs:\n",
    "len(eng2sp)"
   ]
  },
  {
   "cell_type": "code",
   "execution_count": 25,
   "metadata": {},
   "outputs": [
    {
     "data": {
      "text/plain": [
       "True"
      ]
     },
     "execution_count": 25,
     "metadata": {},
     "output_type": "execute_result"
    }
   ],
   "source": [
    "# The in operator works on dictionaries; it tells you whether something appears as\n",
    "# a key in the dictionary (appearing as a value is not good enough).\n",
    "'one' in eng2sp"
   ]
  },
  {
   "cell_type": "code",
   "execution_count": 26,
   "metadata": {},
   "outputs": [
    {
     "data": {
      "text/plain": [
       "False"
      ]
     },
     "execution_count": 26,
     "metadata": {},
     "output_type": "execute_result"
    }
   ],
   "source": [
    "'uno' in eng2sp"
   ]
  },
  {
   "cell_type": "code",
   "execution_count": 4,
   "metadata": {},
   "outputs": [
    {
     "data": {
      "text/plain": [
       "True"
      ]
     },
     "execution_count": 4,
     "metadata": {},
     "output_type": "execute_result"
    }
   ],
   "source": [
    "# To see whether something appears as a value in a dictionary, you can use the\n",
    "# method values, which returns the values as a list, and then use the in operator:\n",
    "vals = eng2sp.values()\n",
    "'uno' in vals"
   ]
  },
  {
   "cell_type": "markdown",
   "metadata": {},
   "source": [
    "# 2. Dictionary as a set of counters"
   ]
  },
  {
   "cell_type": "code",
   "execution_count": 28,
   "metadata": {},
   "outputs": [
    {
     "name": "stdout",
     "output_type": "stream",
     "text": [
      "{'b': 1, 'r': 2, 'o': 2, 'n': 1, 't': 1, 's': 2, 'a': 1, 'u': 2}\n"
     ]
    }
   ],
   "source": [
    "word = 'brontosaurus'\n",
    "d = dict()\n",
    "for c in word:\n",
    "    if c not in d:\n",
    "        d[c] = 1\n",
    "    else:\n",
    "        d[c] = d[c] + 1\n",
    "print (d)"
   ]
  },
  {
   "cell_type": "code",
   "execution_count": 30,
   "metadata": {},
   "outputs": [
    {
     "name": "stdout",
     "output_type": "stream",
     "text": [
      "100\n",
      "0\n"
     ]
    }
   ],
   "source": [
    "# Dictionaries have a method called get that takes a key and a default value. If the\n",
    "# key appears in the dictionary, get returns the corresponding value; otherwise it\n",
    "# returns the default value. For example:\n",
    "counts = { 'chuck' : 1 , 'annie' : 42, 'jan': 100}\n",
    "print (counts.get('jan', 0))\n",
    "print (counts.get('tim', 0))"
   ]
  },
  {
   "cell_type": "code",
   "execution_count": 2,
   "metadata": {
    "collapsed": true
   },
   "outputs": [
    {
     "name": "stdout",
     "output_type": "stream",
     "text": [
      "1\n",
      "42\n",
      "100\n"
     ]
    }
   ],
   "source": [
    "# implement above code using get() method (no need to use if and else statement)\n",
    "\n",
    "counts = { 'chuck' : 1 , 'annie' : 42, 'jan': 100}\n",
    "\n",
    "for i in counts.keys():\n",
    "    print(counts.get(i))\n",
    "\n",
    "\n"
   ]
  },
  {
   "cell_type": "code",
   "execution_count": null,
   "metadata": {
    "collapsed": true
   },
   "outputs": [],
   "source": [
    "# count no of words in a file"
   ]
  },
  {
   "cell_type": "code",
   "execution_count": 1,
   "metadata": {},
   "outputs": [
    {
     "name": "stdout",
     "output_type": "stream",
     "text": [
      "{'This': 2, \"here's\": 2, 'the': 2, 'wattle,': 2}\n"
     ]
    }
   ],
   "source": [
    "fname = input('Enter the file name: ')\n",
    "try:\n",
    "    fhand = open(fname)\n",
    "except:\n",
    "    print ('File cannot be opened:', fname)\n",
    "    exit()\n",
    "counts = dict()\n",
    "for line in fhand:\n",
    "    words = line.split()\n",
    "    for word in words:\n",
    "        if word not in counts:\n",
    "            counts[word] = 1\n",
    "        else:\n",
    "            counts[word] += 1\n",
    "print (counts)"
   ]
  },
  {
   "cell_type": "markdown",
   "metadata": {},
   "source": [
    "# 3. Looping and dictionaries"
   ]
  },
  {
   "cell_type": "code",
   "execution_count": 36,
   "metadata": {},
   "outputs": [
    {
     "name": "stdout",
     "output_type": "stream",
     "text": [
      "chuck 1\n",
      "annie 42\n",
      "jan 100\n"
     ]
    }
   ],
   "source": [
    "# If you use a dictionary as the sequence in a for statement, it traverses the keys of\n",
    "# the dictionary. This loop prints each key and the corresponding value:\n",
    "counts = { 'chuck' : 1 , 'annie' : 42, 'jan': 100}\n",
    "for key in counts:\n",
    "    print (key, counts[key])"
   ]
  },
  {
   "cell_type": "markdown",
   "metadata": {},
   "source": [
    "If you want to print the keys in alphabetical order, you first make a list of the keys\n",
    "in the dictionary using the keys method available in dictionary objects, and then\n",
    "sort that list and loop through the sorted list, looking up each key printing out\n",
    "key/value pairs in sorted order as follows as follows:"
   ]
  },
  {
   "cell_type": "code",
   "execution_count": 40,
   "metadata": {},
   "outputs": [
    {
     "name": "stdout",
     "output_type": "stream",
     "text": [
      "['chuck', 'annie', 'jan']\n",
      "annie 42\n",
      "chuck 1\n",
      "jan 100\n"
     ]
    }
   ],
   "source": [
    "counts = { 'chuck' : 1 , 'annie' : 42, 'jan': 100}\n",
    "lst = list(counts.keys())\n",
    "print (lst)\n",
    "lst.sort()\n",
    "for key in lst:\n",
    "    print (key, counts[key])"
   ]
  },
  {
   "cell_type": "code",
   "execution_count": null,
   "metadata": {
    "collapsed": true
   },
   "outputs": [],
   "source": []
  },
  {
   "cell_type": "code",
   "execution_count": 6,
   "metadata": {},
   "outputs": [
    {
     "name": "stdout",
     "output_type": "stream",
     "text": [
      "200 does not exists in dictionary\n"
     ]
    }
   ],
   "source": [
    "# Write a Python program to check if value 200 exists in the following dictionary.\n",
    "\n",
    "def Checking200(dictionary):\n",
    "    for i in dictionary.keys():\n",
    "        if(dictionary.get(i)==200):\n",
    "            return True\n",
    "    return False\n",
    "\n",
    "sample_dict = {'a': 100, 'b': 200, 'c': 300}\n",
    "\n",
    "if(Checking200(sample_dict)):\n",
    "    print(\"200 exists in dictionary\")\n",
    "else:\n",
    "    print(\"200 does not exists in dictionary\")"
   ]
  },
  {
   "cell_type": "code",
   "execution_count": 12,
   "metadata": {},
   "outputs": [
    {
     "name": "stdout",
     "output_type": "stream",
     "text": [
      "Red corresponds to 1\n",
      "Green corresponds to 2\n",
      "Blue corresponds to 3\n"
     ]
    }
   ],
   "source": [
    "# Write a Python program to iterate over dictionaries using for loops.\n",
    "# d = {'Red': 1, 'Green': 2, 'Blue': 3}\n",
    "# SAMPLE OUTPUT:\n",
    "# Red corresponds to  1\n",
    "# Green corresponds to  2\n",
    "# Blue corresponds to  3\n",
    "\n",
    "d = {'Red': 1, 'Green': 2, 'Blue': 3}\n",
    "for i in d.keys():\n",
    "    print(f\"{i} corresponds to {d.get(i)}\")\n"
   ]
  }
 ],
 "metadata": {
  "kernelspec": {
   "display_name": "Python 3.10.8 64-bit (microsoft store)",
   "language": "python",
   "name": "python3"
  },
  "language_info": {
   "codemirror_mode": {
    "name": "ipython",
    "version": 3
   },
   "file_extension": ".py",
   "mimetype": "text/x-python",
   "name": "python",
   "nbconvert_exporter": "python",
   "pygments_lexer": "ipython3",
   "version": "3.11.4"
  },
  "vscode": {
   "interpreter": {
    "hash": "cf877e899ade189e092f419ed6500768233ef45bf03c1569485e8f982cec4187"
   }
  }
 },
 "nbformat": 4,
 "nbformat_minor": 2
}
